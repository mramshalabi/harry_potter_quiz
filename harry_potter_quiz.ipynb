{
  "nbformat": 4,
  "nbformat_minor": 0,
  "metadata": {
    "colab": {
      "provenance": [],
      "authorship_tag": "ABX9TyOQ//62jW+xUr9x5jy4wVNd",
      "include_colab_link": true
    },
    "kernelspec": {
      "name": "python3",
      "display_name": "Python 3"
    },
    "language_info": {
      "name": "python"
    }
  },
  "cells": [
    {
      "cell_type": "markdown",
      "metadata": {
        "id": "view-in-github",
        "colab_type": "text"
      },
      "source": [
        "<a href=\"https://colab.research.google.com/github/mramshalabi/harry_potter_quiz/blob/main/harry_potter_quiz.ipynb\" target=\"_parent\"><img src=\"https://colab.research.google.com/assets/colab-badge.svg\" alt=\"Open In Colab\"/></a>"
      ]
    },
    {
      "cell_type": "code",
      "execution_count": null,
      "metadata": {
        "id": "Iz_OvBnfndjP"
      },
      "outputs": [],
      "source": [
        "print(\"Good morning, class! Today we're going to have a pop quize about Harry Potter.\")\n",
        "print(\"There will be a total of 5 questions. Each question worth 20 points.\")\n",
        "score = 0"
      ]
    },
    {
      "cell_type": "code",
      "source": [
        "question1= \"What is Harry's cousin's name?\"\n",
        "print(\"Question 1: \" + question1)\n",
        "if input() == \"Dudley\":\n",
        "  print(\"Correct! 20 points towards your grade!\")\n",
        "  score += 20\n",
        "else:\n",
        "  print(\"Wrong. No points given.\")"
      ],
      "metadata": {
        "id": "9J_24U3DzxvG"
      },
      "execution_count": null,
      "outputs": []
    },
    {
      "cell_type": "code",
      "source": [
        "question2 = \"Who are Harry's best friends?\"\n",
        "print(\"Question 2: \" + question2)\n",
        "\n",
        "answer = input(\"Who are Harry's best friends? \")\n",
        "if \"Hermione\" and \"Ron\" in answer:\n",
        "    print(\"Correct! Another 20 points!\")\n",
        "    score += 20\n",
        "else:\n",
        "  print ('Nope. No points')"
      ],
      "metadata": {
        "id": "HCtF1yhwEe5-",
        "colab": {
          "base_uri": "https://localhost:8080/"
        },
        "outputId": "d764ca79-de60-4ac2-957c-e9d5f083feec"
      },
      "execution_count": null,
      "outputs": [
        {
          "output_type": "stream",
          "name": "stdout",
          "text": [
            "Question 2: Who are Harry's best friends?\n"
          ]
        }
      ]
    },
    {
      "cell_type": "code",
      "source": [
        "question3 = \"Harry's patronous is a _____? Fill in the blank\"\n",
        "print(\"Question 3: \", question3)\n",
        "\n",
        "if input() == \"Stag\":\n",
        "  print (\"Lovely! 60 points total!\")\n",
        "  score += 20\n",
        "else:\n",
        "  print(\"You're not doing too good...\")"
      ],
      "metadata": {
        "id": "i81IlWL_FHA0"
      },
      "execution_count": null,
      "outputs": []
    },
    {
      "cell_type": "code",
      "source": [
        "q4 = \"Fill in the blank: ____ hated ____ because ____ could've been the chosen one.\"\n",
        "print(\"Question 4: \", q4)\n",
        "\n",
        "if \"Snape\" and \"Neville\" in input():\n",
        "  print(\"Wow! You're on a roll!\")\n",
        "  score += 20\n",
        "else:\n",
        "  print(\"You were so close..\")"
      ],
      "metadata": {
        "id": "PWV7aNQKGQYd"
      },
      "execution_count": null,
      "outputs": []
    },
    {
      "cell_type": "code",
      "source": [
        "q5 = \"What was the spell that killed Dumbledore?\"\n",
        "print(\"Question 5, final question: \" + q5)\n",
        "if input() == \"Avada Kadavra\":\n",
        "  print(\"Good job!\")\n",
        "  score += 20\n",
        "else:\n",
        "  print(\"Better luck next time!\")"
      ],
      "metadata": {
        "colab": {
          "base_uri": "https://localhost:8080/"
        },
        "id": "a7zOeKwnJBjP",
        "outputId": "c35a6d9c-f1c4-47f3-924c-0e0a4a239f71"
      },
      "execution_count": 111,
      "outputs": [
        {
          "output_type": "stream",
          "name": "stdout",
          "text": [
            "Question 5, final question: What was the spell that killed Dumbledore?\n",
            "Avada Kadavra\n",
            "Good job!\n"
          ]
        }
      ]
    },
    {
      "cell_type": "code",
      "source": [
        "print(f\"Congratulations on finishing the exam! Your total score is:  {score}/100\" )"
      ],
      "metadata": {
        "colab": {
          "base_uri": "https://localhost:8080/"
        },
        "id": "J_3NIoPUPXCo",
        "outputId": "f87f5c7b-13b8-410e-e7fe-51b54130ebd9"
      },
      "execution_count": null,
      "outputs": [
        {
          "output_type": "stream",
          "name": "stdout",
          "text": [
            "Congratulations on finishing the exam! Your total score is:  120/100\n"
          ]
        }
      ]
    }
  ]
}